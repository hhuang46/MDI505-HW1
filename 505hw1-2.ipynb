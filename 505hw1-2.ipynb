{
 "cells": [
  {
   "cell_type": "code",
   "execution_count": 2,
   "metadata": {},
   "outputs": [],
   "source": [
    "import numpy as np\n",
    "from sklearn import linear_model\n",
    "import matplotlib.pyplot as plt"
   ]
  },
  {
   "cell_type": "code",
   "execution_count": 3,
   "metadata": {},
   "outputs": [],
   "source": [
    "#load data sets\n",
    "data_file_name = \"505hw1\\Sr-resistivity-vs-temp.txt\"\n",
    "data = np.loadtxt(data_file_name)\n",
    "T = data[:, 0]\n",
    "Rho = data[:, 1]"
   ]
  },
  {
   "cell_type": "code",
   "execution_count": 4,
   "metadata": {},
   "outputs": [
    {
     "name": "stdout",
     "output_type": "stream",
     "text": [
      "n=[0.98465151] -0.7113201395697732\n"
     ]
    }
   ],
   "source": [
    "# do regression on log data\n",
    "# Since ρ∝ T^n, ρ=a∙ T^n, log⁡ρ=nlog⁡T+log⁡a\n",
    "# The coefficient of the log-log plot is n.\n",
    "\n",
    "lgT = np.log(T)\n",
    "lgRgo = np.log(Rho)\n",
    "\n",
    "regr = linear_model.LinearRegression()\n",
    "regr.fit(lgT.reshape(-1, 1), lgRgo)\n",
    "n, b = regr.coef_, regr.intercept_\n",
    "print(\"n=\"+str(n),b)"
   ]
  },
  {
   "cell_type": "code",
   "execution_count": 5,
   "metadata": {},
   "outputs": [
    {
     "data": {
      "image/png": "[encoded data removed]",
      "text/plain": [
       "<Figure size 432x288 with 1 Axes>"
      ]
     },
     "metadata": {
      "needs_background": "light"
     },
     "output_type": "display_data"
    }
   ],
   "source": [
    "#draw plot\n",
    "plt.figure()\n",
    "plt.scatter(T,Rho)\n",
    "plt.plot(T, regr.predict(Rho.reshape(-1,1)), color='red', linewidth=1)\n",
    "plt.xscale('log')\n",
    "plt.yscale('log')\n",
    "plt.savefig(\"Sr-resistivity-vs-temp\")"
   ]
  },
  {
   "cell_type": "code",
   "execution_count": null,
   "metadata": {},
   "outputs": [],
   "source": []
  },
  {
   "cell_type": "code",
   "execution_count": null,
   "metadata": {},
   "outputs": [],
   "source": []
  },
  {
   "cell_type": "code",
   "execution_count": null,
   "metadata": {},
   "outputs": [],
   "source": []
  }
 ],
 "metadata": {
  "kernelspec": {
   "display_name": "Python 3",
   "language": "python",
   "name": "python3"
  },
  "language_info": {
   "codemirror_mode": {
    "name": "ipython",
    "version": 3
   },
   "file_extension": ".py",
   "mimetype": "text/x-python",
   "name": "python",
   "nbconvert_exporter": "python",
   "pygments_lexer": "ipython3",
   "version": "3.7.0"
  }
 },
 "nbformat": 4,
 "nbformat_minor": 2
}
