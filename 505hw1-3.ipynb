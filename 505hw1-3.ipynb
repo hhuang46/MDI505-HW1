{
 "cells": [
  {
   "cell_type": "code",
   "execution_count": 1,
   "metadata": {},
   "outputs": [],
   "source": [
    "import numpy as np\n",
    "from sklearn import linear_model\n",
    "import matplotlib.pyplot as plt\n",
    "data_file_name = \"505hw1\\Cu-Zn-alloy-Nordheim.txt\""
   ]
  },
  {
   "cell_type": "code",
   "execution_count": 2,
   "metadata": {},
   "outputs": [],
   "source": [
    "#load text and calculate x*(1-x)\n",
    "data = np.loadtxt(data_file_name)\n",
    "per_x = data[:, 0]\n",
    "Rho = data[:, 1]\n",
    "x = per_x/100\n",
    "y=x*(1-x)"
   ]
  },
  {
   "cell_type": "code",
   "execution_count": 3,
   "metadata": {},
   "outputs": [
    {
     "name": "stdout",
     "output_type": "stream",
     "text": [
      "C=[225.80726339] 18.51543767603456\n"
     ]
    }
   ],
   "source": [
    "#do linear regression\n",
    "regr = linear_model.LinearRegression()\n",
    "regr.fit(y.reshape(-1, 1), Rho)\n",
    "C, b = regr.coef_, regr.intercept_\n",
    "print(\"C=\"+str(C),b)"
   ]
  },
  {
   "cell_type": "code",
   "execution_count": 4,
   "metadata": {},
   "outputs": [
    {
     "data": {
      "image/png": "[encoded data removed]",
      "text/plain": [
       "<Figure size 432x288 with 1 Axes>"
      ]
     },
     "metadata": {
      "needs_background": "light"
     },
     "output_type": "display_data"
    }
   ],
   "source": [
    "#plot figure\n",
    "plt.figure()\n",
    "plt.scatter(y,Rho)\n",
    "plt.plot(y, regr.predict(y.reshape(-1,1)), color='red', linewidth=1)\n",
    "plt.savefig(\"Cu-Zn-alloy-Nordheim\")"
   ]
  },
  {
   "cell_type": "code",
   "execution_count": null,
   "metadata": {},
   "outputs": [],
   "source": []
  }
 ],
 "metadata": {
  "kernelspec": {
   "display_name": "Python 3",
   "language": "python",
   "name": "python3"
  },
  "language_info": {
   "codemirror_mode": {
    "name": "ipython",
    "version": 3
   },
   "file_extension": ".py",
   "mimetype": "text/x-python",
   "name": "python",
   "nbconvert_exporter": "python",
   "pygments_lexer": "ipython3",
   "version": "3.7.0"
  }
 },
 "nbformat": 4,
 "nbformat_minor": 2
}
